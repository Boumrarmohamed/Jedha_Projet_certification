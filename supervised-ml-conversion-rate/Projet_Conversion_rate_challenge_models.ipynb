{
 "cells": [
  {
   "cell_type": "markdown",
   "id": "25e2b93d",
   "metadata": {},
   "source": [
    "# Imports"
   ]
  },
  {
   "cell_type": "code",
   "execution_count": 45,
   "id": "d03e590d",
   "metadata": {},
   "outputs": [],
   "source": [
    "import pandas as pd\n",
    "import numpy as np\n",
    "\n",
    "from sklearn.model_selection import train_test_split\n",
    "from sklearn.pipeline import Pipeline\n",
    "from sklearn.impute import SimpleImputer\n",
    "from sklearn.preprocessing import StandardScaler, OneHotEncoder, MinMaxScaler\n",
    "from sklearn.compose import ColumnTransformer\n",
    "from sklearn.linear_model import LogisticRegression, LogisticRegressionCV\n",
    "from sklearn.ensemble import RandomForestClassifier\n",
    "from sklearn.ensemble import RandomForestClassifier, BaggingClassifier, AdaBoostClassifier, GradientBoostingClassifier, StackingClassifier\n",
    "from xgboost import XGBClassifier\n",
    "from sklearn.model_selection import cross_val_score, GridSearchCV\n",
    "from sklearn.metrics import f1_score, confusion_matrix, ConfusionMatrixDisplay, classification_report, roc_curve, RocCurveDisplay\n",
    "from sklearn.feature_selection import SequentialFeatureSelector\n",
    "from imblearn.over_sampling import SMOTENC, SMOTE\n",
    "from collections import Counter\n",
    "\n",
    "import matplotlib.pyplot as plt\n",
    "import plotly.express as px\n",
    "import plotly.graph_objects as go\n",
    "import plotly.io as pio"
   ]
  },
  {
   "cell_type": "markdown",
   "id": "dfd68751",
   "metadata": {},
   "source": [
    "# Make your model"
   ]
  },
  {
   "cell_type": "code",
   "execution_count": null,
   "id": "d90de397",
   "metadata": {},
   "outputs": [
    {
     "data": {
      "text/html": [
       "<div>\n",
       "<style scoped>\n",
       "    .dataframe tbody tr th:only-of-type {\n",
       "        vertical-align: middle;\n",
       "    }\n",
       "\n",
       "    .dataframe tbody tr th {\n",
       "        vertical-align: top;\n",
       "    }\n",
       "\n",
       "    .dataframe thead th {\n",
       "        text-align: right;\n",
       "    }\n",
       "</style>\n",
       "<table border=\"1\" class=\"dataframe\">\n",
       "  <thead>\n",
       "    <tr style=\"text-align: right;\">\n",
       "      <th></th>\n",
       "      <th>country</th>\n",
       "      <th>age</th>\n",
       "      <th>new_user</th>\n",
       "      <th>source</th>\n",
       "      <th>total_pages_visited</th>\n",
       "      <th>converted</th>\n",
       "    </tr>\n",
       "  </thead>\n",
       "  <tbody>\n",
       "    <tr>\n",
       "      <th>0</th>\n",
       "      <td>China</td>\n",
       "      <td>22</td>\n",
       "      <td>1</td>\n",
       "      <td>Direct</td>\n",
       "      <td>2</td>\n",
       "      <td>0</td>\n",
       "    </tr>\n",
       "    <tr>\n",
       "      <th>1</th>\n",
       "      <td>UK</td>\n",
       "      <td>21</td>\n",
       "      <td>1</td>\n",
       "      <td>Ads</td>\n",
       "      <td>3</td>\n",
       "      <td>0</td>\n",
       "    </tr>\n",
       "    <tr>\n",
       "      <th>2</th>\n",
       "      <td>Germany</td>\n",
       "      <td>20</td>\n",
       "      <td>0</td>\n",
       "      <td>Seo</td>\n",
       "      <td>14</td>\n",
       "      <td>1</td>\n",
       "    </tr>\n",
       "    <tr>\n",
       "      <th>3</th>\n",
       "      <td>US</td>\n",
       "      <td>23</td>\n",
       "      <td>1</td>\n",
       "      <td>Seo</td>\n",
       "      <td>3</td>\n",
       "      <td>0</td>\n",
       "    </tr>\n",
       "    <tr>\n",
       "      <th>4</th>\n",
       "      <td>US</td>\n",
       "      <td>28</td>\n",
       "      <td>1</td>\n",
       "      <td>Direct</td>\n",
       "      <td>3</td>\n",
       "      <td>0</td>\n",
       "    </tr>\n",
       "  </tbody>\n",
       "</table>\n",
       "</div>"
      ],
      "text/plain": [
       "   country  age  new_user  source  total_pages_visited  converted\n",
       "0    China   22         1  Direct                    2          0\n",
       "1       UK   21         1     Ads                    3          0\n",
       "2  Germany   20         0     Seo                   14          1\n",
       "3       US   23         1     Seo                    3          0\n",
       "4       US   28         1  Direct                    3          0"
      ]
     },
     "execution_count": 2,
     "metadata": {},
     "output_type": "execute_result"
    }
   ],
   "source": [
    "# Explorer le Dataset\n",
    "\n",
    "data = pd.read_csv('conversion_data_train.csv')\n",
    "data = data.loc[data['age']<80,:]\n",
    "data.head()"
   ]
  },
  {
   "cell_type": "markdown",
   "id": "ffdae62b",
   "metadata": {},
   "source": [
    "# Choose variables to use in the model, and create train and test sets"
   ]
  },
  {
   "cell_type": "code",
   "execution_count": null,
   "id": "59d8ff24",
   "metadata": {},
   "outputs": [
    {
     "name": "stdout",
     "output_type": "stream",
     "text": [
      "Explanatory variables :  Index(['country', 'age', 'new_user', 'source', 'total_pages_visited'], dtype='object')\n",
      "\n"
     ]
    }
   ],
   "source": [
    "features_list = list(data.columns)\n",
    "features_list.remove('converted')\n",
    "target_variable = 'converted'\n",
    "\n",
    "X = data.loc[:, features_list]\n",
    "Y = data.loc[:, target_variable]\n",
    "\n",
    "print('Explanatory variables : ', X.columns)\n",
    "print()"
   ]
  },
  {
   "cell_type": "code",
   "execution_count": null,
   "id": "8627da77",
   "metadata": {},
   "outputs": [
    {
     "name": "stdout",
     "output_type": "stream",
     "text": [
      "Dividing into train and test sets...\n",
      "...Done.\n",
      "\n"
     ]
    }
   ],
   "source": [
    "# Division du dataset en ensemble d'entraînement et de test\n",
    "print(\"Dividing into train and test sets...\")\n",
    "X_train, X_test, Y_train, Y_test = train_test_split(X, Y, test_size=0.1, stratify=Y, random_state=0)\n",
    "print(\"...Done.\")\n",
    "print()"
   ]
  },
  {
   "cell_type": "markdown",
   "id": "cbdec665",
   "metadata": {},
   "source": [
    "# Preprocessing"
   ]
  },
  {
   "cell_type": "code",
   "execution_count": 5,
   "id": "e922109e",
   "metadata": {},
   "outputs": [
    {
     "name": "stdout",
     "output_type": "stream",
     "text": [
      "Encoding categorical features and standardizing numerical features...\n",
      "...Done\n"
     ]
    }
   ],
   "source": [
    "print(\"Encoding categorical features and standardizing numerical features...\")\n",
    "\n",
    "numeric_features = features_list.copy()\n",
    "numeric_features.remove(\"country\")\n",
    "numeric_features.remove(\"new_user\")\n",
    "numeric_features.remove(\"source\")\n",
    "categorical_features = [\"country\", \"new_user\", \"source\"]\n",
    "\n",
    "numeric_transformer = StandardScaler()\n",
    "categorical_transformer = OneHotEncoder(drop=\"first\")\n",
    "\n",
    "preprocessor = ColumnTransformer(\n",
    "    transformers=[\n",
    "        (\"num\", numeric_transformer, numeric_features),\n",
    "        (\"cat\", categorical_transformer, categorical_features),\n",
    "    ]\n",
    ")\n",
    "\n",
    "X_train = preprocessor.fit_transform(X_train)\n",
    "X_test = preprocessor.transform(X_test)\n",
    "\n",
    "print(\"...Done\")"
   ]
  },
  {
   "cell_type": "markdown",
   "id": "24afa2c9",
   "metadata": {},
   "source": [
    "# PART 1 : BASELINE MODEL\n",
    "*Objectif : Établir une performance de référence avec la variable la plus prédictive*\n"
   ]
  },
  {
   "cell_type": "markdown",
   "id": "7da189a9",
   "metadata": {},
   "source": [
    "# Models\n",
    "\n",
    "## Baseline"
   ]
  },
  {
   "cell_type": "code",
   "execution_count": null,
   "id": "835a40e4",
   "metadata": {},
   "outputs": [
    {
     "name": "stdout",
     "output_type": "stream",
     "text": [
      "f1-score on train set :  0.6950136373172949\n",
      "f1-score on test set :  0.6961394769613948\n"
     ]
    }
   ],
   "source": [
    "features_list_baseline = ['total_pages_visited']\n",
    "X_baseline = data.loc[:, features_list_baseline]\n",
    "X_train_baseline, X_test_baseline, Y_train_baseline, Y_test_baseline = train_test_split(X_baseline, Y, test_size=0.1, stratify=Y, random_state=0)\n",
    "\n",
    "numeric_transformer_baseline = StandardScaler()\n",
    "X_train_baseline = numeric_transformer_baseline.fit_transform(X_train_baseline)\n",
    "X_test_baseline = numeric_transformer_baseline.transform(X_test_baseline)\n",
    "\n",
    "baseline = LogisticRegression()\n",
    "baseline.fit(X_train_baseline, Y_train_baseline)\n",
    "Y_train_pred_baseline = baseline.predict(X_train_baseline)\n",
    "Y_test_pred_baseline = baseline.predict(X_test_baseline)\n",
    "print(\"f1-score on train set : \", f1_score(Y_train_baseline, Y_train_pred_baseline))\n",
    "print(\"f1-score on test set : \", f1_score(Y_test_baseline, Y_test_pred_baseline))"
   ]
  },
  {
   "cell_type": "markdown",
   "id": "8b58a714",
   "metadata": {},
   "source": [
    "# Mon modèle baseline avec seulement la variable total_pages_visited atteint un F1-score de 69.6% sur le test set. C'est cohérent avec le template Jedha qui obtenait 70.6%. J'observe que les performances train/test sont très proches (69.5% vs 69.6%), ce qui indique un modèle équilibré sans sur-apprentissage.\"\n",
    "\"Cette performance de référence va maintenant me permettre de mesurer l'amélioration apportée par l'utilisation de toutes les variables et des algorithmes plus sophistiqués.\""
   ]
  },
  {
   "cell_type": "markdown",
   "id": "960cdbe5",
   "metadata": {},
   "source": [
    "---\n",
    "#  PART 2 : OPTIMISATION F1-SCORE\n",
    "*Objectif : Améliorer les performances avec tous les features et hyperparameter tuning*"
   ]
  },
  {
   "cell_type": "markdown",
   "id": "8125a875",
   "metadata": {},
   "source": [
    "# Other models with grid search"
   ]
  },
  {
   "cell_type": "code",
   "execution_count": null,
   "id": "8d3947e5",
   "metadata": {},
   "outputs": [
    {
     "name": "stdout",
     "output_type": "stream",
     "text": [
      "GridSearch LogisticRegressionCV en cours...\n",
      "Fitting 5 folds for each of 12 candidates, totalling 60 fits\n",
      "[CV] END ............................Cs=5, class_weight=None; total time=   1.4s\n",
      "[CV] END ............................Cs=5, class_weight=None; total time=   1.5s\n",
      "[CV] END ............................Cs=5, class_weight=None; total time=   1.4s\n",
      "[CV] END ............................Cs=5, class_weight=None; total time=   1.3s\n",
      "[CV] END ............................Cs=5, class_weight=None; total time=   1.7s\n",
      "[CV] END ..................Cs=5, class_weight={0: 1, 1: 1.3}; total time=   2.2s\n",
      "[CV] END ..................Cs=5, class_weight={0: 1, 1: 1.3}; total time=   2.3s\n",
      "[CV] END ..................Cs=5, class_weight={0: 1, 1: 1.3}; total time=   2.4s\n",
      "[CV] END ..................Cs=5, class_weight={0: 1, 1: 1.3}; total time=   2.2s\n",
      "[CV] END ..................Cs=5, class_weight={0: 1, 1: 1.3}; total time=   2.2s\n",
      "[CV] END ..................Cs=5, class_weight={0: 1, 1: 1.5}; total time=   2.2s\n",
      "[CV] END ..................Cs=5, class_weight={0: 1, 1: 1.5}; total time=   2.3s\n",
      "[CV] END ..................Cs=5, class_weight={0: 1, 1: 1.5}; total time=   2.2s\n",
      "[CV] END ..................Cs=5, class_weight={0: 1, 1: 1.5}; total time=   2.2s\n",
      "[CV] END ..................Cs=5, class_weight={0: 1, 1: 1.5}; total time=   2.3s\n",
      "[CV] END ........................Cs=5, class_weight=balanced; total time=   2.5s\n",
      "[CV] END ........................Cs=5, class_weight=balanced; total time=   2.4s\n",
      "[CV] END ........................Cs=5, class_weight=balanced; total time=   2.3s\n",
      "[CV] END ........................Cs=5, class_weight=balanced; total time=   2.2s\n",
      "[CV] END ........................Cs=5, class_weight=balanced; total time=   1.7s\n",
      "[CV] END ...........................Cs=10, class_weight=None; total time=   1.9s\n",
      "[CV] END ...........................Cs=10, class_weight=None; total time=   2.1s\n",
      "[CV] END ...........................Cs=10, class_weight=None; total time=   2.1s\n",
      "[CV] END ...........................Cs=10, class_weight=None; total time=   2.0s\n",
      "[CV] END ...........................Cs=10, class_weight=None; total time=   2.0s\n",
      "[CV] END .................Cs=10, class_weight={0: 1, 1: 1.3}; total time=   2.3s\n",
      "[CV] END .................Cs=10, class_weight={0: 1, 1: 1.3}; total time=   2.3s\n",
      "[CV] END .................Cs=10, class_weight={0: 1, 1: 1.3}; total time=   2.2s\n",
      "[CV] END .................Cs=10, class_weight={0: 1, 1: 1.3}; total time=   2.1s\n",
      "[CV] END .................Cs=10, class_weight={0: 1, 1: 1.3}; total time=   2.2s\n",
      "[CV] END .................Cs=10, class_weight={0: 1, 1: 1.5}; total time=   2.3s\n",
      "[CV] END .................Cs=10, class_weight={0: 1, 1: 1.5}; total time=   2.3s\n",
      "[CV] END .................Cs=10, class_weight={0: 1, 1: 1.5}; total time=   2.4s\n",
      "[CV] END .................Cs=10, class_weight={0: 1, 1: 1.5}; total time=   2.3s\n",
      "[CV] END .................Cs=10, class_weight={0: 1, 1: 1.5}; total time=   2.3s\n",
      "[CV] END .......................Cs=10, class_weight=balanced; total time=   2.8s\n",
      "[CV] END .......................Cs=10, class_weight=balanced; total time=   2.8s\n",
      "[CV] END .......................Cs=10, class_weight=balanced; total time=   2.8s\n",
      "[CV] END .......................Cs=10, class_weight=balanced; total time=   2.9s\n",
      "[CV] END .......................Cs=10, class_weight=balanced; total time=   2.8s\n",
      "[CV] END ...........................Cs=15, class_weight=None; total time=   2.8s\n",
      "[CV] END ...........................Cs=15, class_weight=None; total time=   2.8s\n",
      "[CV] END ...........................Cs=15, class_weight=None; total time=   3.1s\n",
      "[CV] END ...........................Cs=15, class_weight=None; total time=   3.1s\n",
      "[CV] END ...........................Cs=15, class_weight=None; total time=   2.7s\n",
      "[CV] END .................Cs=15, class_weight={0: 1, 1: 1.3}; total time=   3.1s\n",
      "[CV] END .................Cs=15, class_weight={0: 1, 1: 1.3}; total time=   3.1s\n",
      "[CV] END .................Cs=15, class_weight={0: 1, 1: 1.3}; total time=   2.9s\n",
      "[CV] END .................Cs=15, class_weight={0: 1, 1: 1.3}; total time=   3.0s\n",
      "[CV] END .................Cs=15, class_weight={0: 1, 1: 1.3}; total time=   2.9s\n",
      "[CV] END .................Cs=15, class_weight={0: 1, 1: 1.5}; total time=   3.0s\n",
      "[CV] END .................Cs=15, class_weight={0: 1, 1: 1.5}; total time=   3.0s\n",
      "[CV] END .................Cs=15, class_weight={0: 1, 1: 1.5}; total time=   3.0s\n",
      "[CV] END .................Cs=15, class_weight={0: 1, 1: 1.5}; total time=   3.0s\n",
      "[CV] END .................Cs=15, class_weight={0: 1, 1: 1.5}; total time=   3.0s\n",
      "[CV] END .......................Cs=15, class_weight=balanced; total time=   3.6s\n",
      "[CV] END .......................Cs=15, class_weight=balanced; total time=   3.8s\n",
      "[CV] END .......................Cs=15, class_weight=balanced; total time=   3.8s\n",
      "[CV] END .......................Cs=15, class_weight=balanced; total time=   3.6s\n",
      "[CV] END .......................Cs=15, class_weight=balanced; total time=   3.6s\n",
      "...Done.\n",
      "Best Parameters: {'Cs': 5, 'class_weight': {0: 1, 1: 1.5}}\n",
      "Best Score: 0.7702295558873126\n",
      "f1-score on train set :  0.7710277407477941\n",
      "f1-score on test set :  0.7674815235929505\n"
     ]
    }
   ],
   "source": [
    "# Logistic Regression avec GridSearch \n",
    "print(\"GridSearch LogisticRegressionCV en cours...\")\n",
    "\n",
    "logreg = LogisticRegressionCV(penalty='l2', random_state=42) \n",
    "params = {\n",
    "    'Cs': [5, 10, 15], \n",
    "    'class_weight': [\n",
    "        None,\n",
    "        {0: 1, 1: 1.3},\n",
    "        {0: 1, 1: 1.5},\n",
    "        'balanced'\n",
    "    ]\n",
    "}\n",
    "\n",
    "gridsearch = GridSearchCV(logreg, scoring=\"f1\", param_grid=params, cv=5, verbose=2)\n",
    "gridsearch.fit(X_train, Y_train)\n",
    "\n",
    "print(\"...Done.\")\n",
    "print(\"Best Parameters:\", gridsearch.best_params_)\n",
    "print(\"Best Score:\", gridsearch.best_score_)\n",
    "\n",
    "Y_train_pred = gridsearch.predict(X_train)\n",
    "Y_test_pred = gridsearch.predict(X_test)\n",
    "\n",
    "print(\"f1-score on train set : \", f1_score(Y_train, Y_train_pred))\n",
    "print(\"f1-score on test set : \", f1_score(Y_test, Y_test_pred))"
   ]
  },
  {
   "cell_type": "code",
   "execution_count": null,
   "id": "674d16cc",
   "metadata": {},
   "outputs": [
    {
     "name": "stdout",
     "output_type": "stream",
     "text": [
      "Test RandomForest avec GridSearch...\n",
      "Fitting 3 folds for each of 36 candidates, totalling 108 fits\n",
      "...Done.\n",
      "Best Parameters: {'class_weight': {0: 1, 1: 1.5}, 'max_depth': 10, 'min_samples_split': 30, 'n_estimators': 40}\n",
      "Best Score: 0.7640810795244316\n",
      "f1-score on train set :  0.7787964876033058\n",
      "f1-score on test set :  0.764294049008168\n"
     ]
    }
   ],
   "source": [
    "# RandomForest\n",
    "print(\"Test RandomForest avec GridSearch...\")\n",
    "\n",
    "rf = RandomForestClassifier(random_state=42)\n",
    "\n",
    "param_grid_rf = {\n",
    "    'n_estimators': [40, 50],\n",
    "    'max_depth': [10, 20],\n",
    "    'min_samples_split': [10, 20, 30],\n",
    "    'class_weight': [None, 'balanced', {0: 1, 1: 1.5}]\n",
    "}\n",
    "\n",
    "grid_search_rf = GridSearchCV(\n",
    "    rf, \n",
    "    param_grid_rf, \n",
    "    cv=3, \n",
    "    scoring='f1',\n",
    "    n_jobs=-1,\n",
    "    verbose=2\n",
    ")\n",
    "\n",
    "grid_search_rf.fit(X_train, Y_train)\n",
    "\n",
    "print(\"...Done.\")\n",
    "print(\"Best Parameters:\", grid_search_rf.best_params_)\n",
    "print(\"Best Score:\", grid_search_rf.best_score_)\n",
    "\n",
    "Y_train_pred_rf = grid_search_rf.predict(X_train)\n",
    "Y_test_pred_rf = grid_search_rf.predict(X_test)\n",
    "\n",
    "print(\"f1-score on train set : \", f1_score(Y_train, Y_train_pred_rf))\n",
    "print(\"f1-score on test set : \", f1_score(Y_test, Y_test_pred_rf))"
   ]
  },
  {
   "cell_type": "code",
   "execution_count": null,
   "id": "5abaf656",
   "metadata": {},
   "outputs": [
    {
     "name": "stdout",
     "output_type": "stream",
     "text": [
      "Test XGBoost avec GridSearch...\n",
      "Ratio des classes calculé : 30.01\n",
      "Fitting 3 folds for each of 54 candidates, totalling 162 fits\n",
      "...Done.\n",
      "Best Parameters: {'max_depth': 6, 'min_child_weight': 4, 'n_estimators': 50, 'scale_pos_weight': 1}\n",
      "Best Score: 0.7632422784787377\n",
      "f1-score on train set :  0.7709735456786833\n",
      "f1-score on test set :  0.7610513739545998\n"
     ]
    }
   ],
   "source": [
    "# Test XGBoost avec calcul automatique du ratio\n",
    "print(\"Test XGBoost avec GridSearch...\")\n",
    "\n",
    "weight_ratio = float(len(Y_train[Y_train == 0]))/float(len(Y_train[Y_train == 1]))\n",
    "print(f\"Ratio des classes calculé : {weight_ratio:.2f}\")\n",
    "\n",
    "xgb = XGBClassifier(random_state=42, eval_metric='logloss')\n",
    "\n",
    "param_grid_xgb = {\n",
    "    'max_depth': [3, 6, 8],\n",
    "    'min_child_weight': [2, 4, 6],\n",
    "    'n_estimators': [50, 100],\n",
    "    'scale_pos_weight': [weight_ratio, 1, 3]\n",
    "}\n",
    "\n",
    "grid_search_xgb = GridSearchCV(\n",
    "    xgb, \n",
    "    param_grid_xgb, \n",
    "    cv=3, \n",
    "    scoring='f1',\n",
    "    n_jobs=-1,\n",
    "    verbose=1\n",
    ")\n",
    "\n",
    "grid_search_xgb.fit(X_train, Y_train)\n",
    "\n",
    "print(\"...Done.\")\n",
    "print(\"Best Parameters:\", grid_search_xgb.best_params_)\n",
    "print(\"Best Score:\", grid_search_xgb.best_score_)\n",
    "\n",
    "Y_train_pred_xgb = grid_search_xgb.predict(X_train)\n",
    "Y_test_pred_xgb = grid_search_xgb.predict(X_test)\n",
    "\n",
    "print(\"f1-score on train set : \", f1_score(Y_train, Y_train_pred_xgb))\n",
    "print(\"f1-score on test set : \", f1_score(Y_test, Y_test_pred_xgb))"
   ]
  },
  {
   "cell_type": "code",
   "execution_count": null,
   "id": "e5a9a611",
   "metadata": {},
   "outputs": [],
   "source": [
    "# Test Voting Classifier\n",
    "print(\"Test Voting Classifier...\")\n",
    "\n",
    "from sklearn.ensemble import VotingClassifier\n",
    "\n",
    "voting = VotingClassifier(\n",
    "    estimators=[\n",
    "        (\"logistic\", LogisticRegressionCV(Cs=[15], penalty='l2', class_weight={0: 1, 1: 1.5}, random_state=42)), \n",
    "        (\"tree\", RandomForestClassifier(class_weight={0: 1, 1: 1.5}, max_depth=10, min_samples_split=30, n_estimators=40, random_state=42)), \n",
    "        (\"XGboosting\", XGBClassifier(max_depth=6, min_child_weight=4, n_estimators=50, scale_pos_weight=1, random_state=42, eval_metric='logloss'))\n",
    "    ],\n",
    "    voting=\"soft\",\n",
    ")\n",
    "\n",
    "voting.fit(X_train, Y_train)\n",
    "\n",
    "Y_train_pred = voting.predict(X_train)\n",
    "Y_test_pred = voting.predict(X_test)\n",
    "\n",
    "print(\"...Done.\")\n",
    "print(\"f1-score on train set : \", f1_score(Y_train, Y_train_pred))\n",
    "print(\"f1-score on test set : \", f1_score(Y_test, Y_test_pred))"
   ]
  },
  {
   "cell_type": "markdown",
   "id": "1fba0f6b",
   "metadata": {},
   "source": [
    "# Best model"
   ]
  },
  {
   "cell_type": "markdown",
   "id": "0a293c55",
   "metadata": {},
   "source": [
    "##  FEATURE ENGINEERING AVANCÉ\n",
    "*Création de nouvelles variables pour améliorer la prédiction*\n",
    "\n",
    "**Variables combinées (insights EDA) :**\n",
    "- `Age_per_Pages` : Ratio âge/pages visitées  \n",
    "- `Age_x_NewUser` : Interaction âge × type utilisateur\n",
    "\n",
    "**Transformations mathématiques :**\n",
    "- Log, racine, carré, inverse sur `total_pages_visited` et `age`\n",
    "\n",
    "**Variables catégorielles dérivées :**\n",
    "- `high_pages` : Seuil >10 pages visitées\n",
    "- `young_user` : Seuil <30 ans"
   ]
  },
  {
   "cell_type": "code",
   "execution_count": 18,
   "id": "db80d701",
   "metadata": {},
   "outputs": [
    {
     "data": {
      "text/html": [
       "<div>\n",
       "<style scoped>\n",
       "    .dataframe tbody tr th:only-of-type {\n",
       "        vertical-align: middle;\n",
       "    }\n",
       "\n",
       "    .dataframe tbody tr th {\n",
       "        vertical-align: top;\n",
       "    }\n",
       "\n",
       "    .dataframe thead th {\n",
       "        text-align: right;\n",
       "    }\n",
       "</style>\n",
       "<table border=\"1\" class=\"dataframe\">\n",
       "  <thead>\n",
       "    <tr style=\"text-align: right;\">\n",
       "      <th></th>\n",
       "      <th>country</th>\n",
       "      <th>age</th>\n",
       "      <th>new_user</th>\n",
       "      <th>source</th>\n",
       "      <th>total_pages_visited</th>\n",
       "      <th>converted</th>\n",
       "      <th>Age_per_Pages</th>\n",
       "      <th>Age_x_NewUser</th>\n",
       "      <th>log_total_pages_visited</th>\n",
       "      <th>sqrt_total_pages_visited</th>\n",
       "      <th>sq_total_pages_visited</th>\n",
       "      <th>inv_total_pages_visited</th>\n",
       "      <th>log_age</th>\n",
       "      <th>sqrt_age</th>\n",
       "      <th>sq_age</th>\n",
       "      <th>inv_age</th>\n",
       "      <th>high_pages</th>\n",
       "      <th>young_user</th>\n",
       "    </tr>\n",
       "  </thead>\n",
       "  <tbody>\n",
       "    <tr>\n",
       "      <th>0</th>\n",
       "      <td>China</td>\n",
       "      <td>22</td>\n",
       "      <td>1</td>\n",
       "      <td>Direct</td>\n",
       "      <td>2</td>\n",
       "      <td>0</td>\n",
       "      <td>11.000000</td>\n",
       "      <td>22.0</td>\n",
       "      <td>0.693147</td>\n",
       "      <td>1.414214</td>\n",
       "      <td>4</td>\n",
       "      <td>0.500000</td>\n",
       "      <td>3.091042</td>\n",
       "      <td>4.690416</td>\n",
       "      <td>484</td>\n",
       "      <td>0.045455</td>\n",
       "      <td>0</td>\n",
       "      <td>1</td>\n",
       "    </tr>\n",
       "    <tr>\n",
       "      <th>1</th>\n",
       "      <td>UK</td>\n",
       "      <td>21</td>\n",
       "      <td>1</td>\n",
       "      <td>Ads</td>\n",
       "      <td>3</td>\n",
       "      <td>0</td>\n",
       "      <td>7.000000</td>\n",
       "      <td>21.0</td>\n",
       "      <td>1.098612</td>\n",
       "      <td>1.732051</td>\n",
       "      <td>9</td>\n",
       "      <td>0.333333</td>\n",
       "      <td>3.044522</td>\n",
       "      <td>4.582576</td>\n",
       "      <td>441</td>\n",
       "      <td>0.047619</td>\n",
       "      <td>0</td>\n",
       "      <td>1</td>\n",
       "    </tr>\n",
       "    <tr>\n",
       "      <th>2</th>\n",
       "      <td>Germany</td>\n",
       "      <td>20</td>\n",
       "      <td>0</td>\n",
       "      <td>Seo</td>\n",
       "      <td>14</td>\n",
       "      <td>1</td>\n",
       "      <td>1.428571</td>\n",
       "      <td>10.0</td>\n",
       "      <td>2.639057</td>\n",
       "      <td>3.741657</td>\n",
       "      <td>196</td>\n",
       "      <td>0.071429</td>\n",
       "      <td>2.995732</td>\n",
       "      <td>4.472136</td>\n",
       "      <td>400</td>\n",
       "      <td>0.050000</td>\n",
       "      <td>1</td>\n",
       "      <td>1</td>\n",
       "    </tr>\n",
       "    <tr>\n",
       "      <th>3</th>\n",
       "      <td>US</td>\n",
       "      <td>23</td>\n",
       "      <td>1</td>\n",
       "      <td>Seo</td>\n",
       "      <td>3</td>\n",
       "      <td>0</td>\n",
       "      <td>7.666667</td>\n",
       "      <td>23.0</td>\n",
       "      <td>1.098612</td>\n",
       "      <td>1.732051</td>\n",
       "      <td>9</td>\n",
       "      <td>0.333333</td>\n",
       "      <td>3.135494</td>\n",
       "      <td>4.795832</td>\n",
       "      <td>529</td>\n",
       "      <td>0.043478</td>\n",
       "      <td>0</td>\n",
       "      <td>1</td>\n",
       "    </tr>\n",
       "    <tr>\n",
       "      <th>4</th>\n",
       "      <td>US</td>\n",
       "      <td>28</td>\n",
       "      <td>1</td>\n",
       "      <td>Direct</td>\n",
       "      <td>3</td>\n",
       "      <td>0</td>\n",
       "      <td>9.333333</td>\n",
       "      <td>28.0</td>\n",
       "      <td>1.098612</td>\n",
       "      <td>1.732051</td>\n",
       "      <td>9</td>\n",
       "      <td>0.333333</td>\n",
       "      <td>3.332205</td>\n",
       "      <td>5.291503</td>\n",
       "      <td>784</td>\n",
       "      <td>0.035714</td>\n",
       "      <td>0</td>\n",
       "      <td>1</td>\n",
       "    </tr>\n",
       "  </tbody>\n",
       "</table>\n",
       "</div>"
      ],
      "text/plain": [
       "   country  age  new_user  source  total_pages_visited  converted  \\\n",
       "0    China   22         1  Direct                    2          0   \n",
       "1       UK   21         1     Ads                    3          0   \n",
       "2  Germany   20         0     Seo                   14          1   \n",
       "3       US   23         1     Seo                    3          0   \n",
       "4       US   28         1  Direct                    3          0   \n",
       "\n",
       "   Age_per_Pages  Age_x_NewUser  log_total_pages_visited  \\\n",
       "0      11.000000           22.0                 0.693147   \n",
       "1       7.000000           21.0                 1.098612   \n",
       "2       1.428571           10.0                 2.639057   \n",
       "3       7.666667           23.0                 1.098612   \n",
       "4       9.333333           28.0                 1.098612   \n",
       "\n",
       "   sqrt_total_pages_visited  sq_total_pages_visited  inv_total_pages_visited  \\\n",
       "0                  1.414214                       4                 0.500000   \n",
       "1                  1.732051                       9                 0.333333   \n",
       "2                  3.741657                     196                 0.071429   \n",
       "3                  1.732051                       9                 0.333333   \n",
       "4                  1.732051                       9                 0.333333   \n",
       "\n",
       "    log_age  sqrt_age  sq_age   inv_age  high_pages  young_user  \n",
       "0  3.091042  4.690416     484  0.045455           0           1  \n",
       "1  3.044522  4.582576     441  0.047619           0           1  \n",
       "2  2.995732  4.472136     400  0.050000           1           1  \n",
       "3  3.135494  4.795832     529  0.043478           0           1  \n",
       "4  3.332205  5.291503     784  0.035714           0           1  "
      ]
     },
     "execution_count": 18,
     "metadata": {},
     "output_type": "execute_result"
    }
   ],
   "source": [
    "# Best model with feature engineering\n",
    "data_features = data.copy()\n",
    "\n",
    "# Variables combinées (basées sur insights EDA)\n",
    "data_features['Age_per_Pages'] = data_features['age'] / data_features['total_pages_visited']\n",
    "data_features['Age_x_NewUser'] = data_features['age'] * data_features['new_user'].replace({0:0.5, 1:1})\n",
    "\n",
    "# Transformations sur total_pages_visited (variable la plus importante)\n",
    "data_features[\"log_total_pages_visited\"] = np.log(data_features[\"total_pages_visited\"])   \n",
    "data_features[\"sqrt_total_pages_visited\"] = np.sqrt(data_features[\"total_pages_visited\"])   \n",
    "data_features[\"sq_total_pages_visited\"] = data_features[\"total_pages_visited\"] ** 2\n",
    "data_features[\"inv_total_pages_visited\"] = 1 / data_features[\"total_pages_visited\"]\n",
    "\n",
    "# Transformations sur age (variable importante)\n",
    "data_features[\"log_age\"] = np.log(data_features[\"age\"])   \n",
    "data_features[\"sqrt_age\"] = np.sqrt(data_features[\"age\"])   \n",
    "data_features[\"sq_age\"] = data_features[\"age\"] ** 2\n",
    "data_features[\"inv_age\"] = 1 / data_features[\"age\"]\n",
    "\n",
    "# Variables catégorielles dérivées\n",
    "data_features['high_pages'] = (data_features['total_pages_visited'] > 10).astype(int)\n",
    "data_features['young_user'] = (data_features['age'] < 30).astype(int)\n",
    "\n",
    "data_features.head()"
   ]
  },
  {
   "cell_type": "code",
   "execution_count": 19,
   "id": "13f35df6",
   "metadata": {},
   "outputs": [
    {
     "name": "stdout",
     "output_type": "stream",
     "text": [
      "Explanatory variables :  Index(['country', 'age', 'new_user', 'source', 'total_pages_visited',\n",
      "       'Age_per_Pages', 'Age_x_NewUser', 'log_total_pages_visited',\n",
      "       'sqrt_total_pages_visited', 'sq_total_pages_visited',\n",
      "       'inv_total_pages_visited', 'log_age', 'sqrt_age', 'sq_age', 'inv_age',\n",
      "       'high_pages', 'young_user'],\n",
      "      dtype='object')\n",
      "\n"
     ]
    }
   ],
   "source": [
    "# Choix des variables avec Feature Engineering\n",
    "features_list_feateng = list(data_features.columns)\n",
    "features_list_feateng.remove('converted')\n",
    "target_variable = 'converted'\n",
    "\n",
    "X_feateng = data_features.loc[:, features_list_feateng]\n",
    "Y_feateng = data_features.loc[:, target_variable]\n",
    "\n",
    "print('Explanatory variables : ', X_feateng.columns)\n",
    "print()"
   ]
  },
  {
   "cell_type": "code",
   "execution_count": 20,
   "id": "c8b1a795",
   "metadata": {},
   "outputs": [
    {
     "name": "stdout",
     "output_type": "stream",
     "text": [
      "Dividing into train and test sets...\n",
      "...Done.\n",
      "\n"
     ]
    }
   ],
   "source": [
    "# Division du dataset en ensemble d'entraînement et de test\n",
    "print(\"Dividing into train and test sets...\")\n",
    "X_train_feateng, X_test_feateng, Y_train_feateng, Y_test_feateng = train_test_split(\n",
    "    X_feateng, Y_feateng, test_size=0.1, stratify=Y_feateng, random_state=0\n",
    ")\n",
    "print(\"...Done.\")\n",
    "print()"
   ]
  },
  {
   "cell_type": "code",
   "execution_count": null,
   "id": "ce9b0a9b",
   "metadata": {},
   "outputs": [
    {
     "name": "stdout",
     "output_type": "stream",
     "text": [
      "Encoding categorical features and standardizing numerical features...\n",
      "...Done\n"
     ]
    }
   ],
   "source": [
    "print(\"Encoding categorical features and standardizing numerical features...\")\n",
    "\n",
    "X_train_feateng['country'] = X_train_feateng['country'].astype(\"category\")\n",
    "X_train_feateng['new_user'] = X_train_feateng['new_user'].astype(\"category\")\n",
    "X_train_feateng['source'] = X_train_feateng['source'].astype(\"category\")\n",
    "X_test_feateng['country'] = X_test_feateng['country'].astype(\"category\")\n",
    "X_test_feateng['new_user'] = X_test_feateng['new_user'].astype(\"category\")\n",
    "X_test_feateng['source'] = X_test_feateng['source'].astype(\"category\")\n",
    "\n",
    "numeric_features_feateng = features_list_feateng.copy()\n",
    "numeric_features_feateng.remove(\"country\")\n",
    "numeric_features_feateng.remove(\"new_user\") \n",
    "numeric_features_feateng.remove(\"source\")\n",
    "categorical_features = [\"country\", \"new_user\", \"source\"]\n",
    "\n",
    "preprocessor_feateng = ColumnTransformer(\n",
    "    transformers=[\n",
    "        (\"num\", numeric_transformer, numeric_features_feateng),\n",
    "        (\"cat\", categorical_transformer, categorical_features),\n",
    "    ]\n",
    ")\n",
    "\n",
    "X_train_feateng = preprocessor_feateng.fit_transform(X_train_feateng)\n",
    "X_test_feateng = preprocessor_feateng.transform(X_test_feateng)\n",
    "\n",
    "print(\"...Done\")"
   ]
  },
  {
   "cell_type": "code",
   "execution_count": null,
   "id": "7db0388b",
   "metadata": {},
   "outputs": [
    {
     "name": "stdout",
     "output_type": "stream",
     "text": [
      "Train model...\n",
      "...Done.\n"
     ]
    }
   ],
   "source": [
    "print(\"Train model...\")\n",
    "classifier_feateng = LogisticRegression(random_state=42)\n",
    "classifier_feateng.fit(X_train_feateng, Y_train_feateng)\n",
    "print(\"...Done.\")"
   ]
  },
  {
   "cell_type": "code",
   "execution_count": null,
   "id": "b2be56e5",
   "metadata": {},
   "outputs": [
    {
     "name": "stdout",
     "output_type": "stream",
     "text": [
      "Predictions on training set...\n",
      "...Done.\n",
      "[0 0 0 ... 0 0 0]\n",
      "\n"
     ]
    }
   ],
   "source": [
    "print(\"Predictions on training set...\")\n",
    "Y_train_pred_feateng = classifier_feateng.predict(X_train_feateng)\n",
    "print(\"...Done.\")\n",
    "print(Y_train_pred_feateng)\n",
    "print()"
   ]
  },
  {
   "cell_type": "code",
   "execution_count": null,
   "id": "19c5fd9e",
   "metadata": {},
   "outputs": [
    {
     "name": "stdout",
     "output_type": "stream",
     "text": [
      "Predictions on test set...\n",
      "...Done.\n",
      "[0 0 0 ... 0 0 0]\n",
      "\n"
     ]
    }
   ],
   "source": [
    "print(\"Predictions on test set...\")\n",
    "Y_test_pred_feateng = classifier_feateng.predict(X_test_feateng)\n",
    "print(\"...Done.\")\n",
    "print(Y_test_pred_feateng)\n",
    "print()"
   ]
  },
  {
   "cell_type": "code",
   "execution_count": 25,
   "id": "08793570",
   "metadata": {},
   "outputs": [
    {
     "name": "stdout",
     "output_type": "stream",
     "text": [
      "f1-score on train set :  0.7631279684259816\n",
      "f1-score on test set :  0.7671068427370948\n"
     ]
    }
   ],
   "source": [
    "# WARNING : Use the same score as the one that will be used by Kaggle !\n",
    "# Here, the f1-score will be used to assess the performances on the leaderboard\n",
    "print(\"f1-score on train set : \", f1_score(Y_train_feateng, Y_train_pred_feateng))\n",
    "print(\"f1-score on test set : \", f1_score(Y_test_feateng, Y_test_pred_feateng))"
   ]
  },
  {
   "cell_type": "code",
   "execution_count": null,
   "id": "d2977e10",
   "metadata": {},
   "outputs": [
    {
     "name": "stdout",
     "output_type": "stream",
     "text": [
      "Confusion matrix on train set : \n",
      "[[246875    985]\n",
      " [  2556   5704]]\n",
      "\n",
      "Confusion matrix on test set : \n",
      "[[27431   109]\n",
      " [  279   639]]\n",
      "\n"
     ]
    }
   ],
   "source": [
    "print(\"Confusion matrix on train set : \")\n",
    "print(confusion_matrix(Y_train_feateng, Y_train_pred_feateng))\n",
    "print()\n",
    "print(\"Confusion matrix on test set : \")\n",
    "print(confusion_matrix(Y_test_feateng, Y_test_pred_feateng))\n",
    "print()"
   ]
  },
  {
   "cell_type": "markdown",
   "id": "9fbb8f6e",
   "metadata": {},
   "source": [
    "## Sélection de features \n"
   ]
  },
  {
   "cell_type": "code",
   "execution_count": 29,
   "id": "f347f90d",
   "metadata": {},
   "outputs": [
    {
     "name": "stdout",
     "output_type": "stream",
     "text": [
      "Sélection des 10 meilleures features...\n",
      "According to the forward selection algorithm, the following features should be kept: \n",
      "age\n",
      "total_pages_visited\n",
      "Age_x_NewUser\n",
      "log_total_pages_visited\n",
      "sq_total_pages_visited\n",
      "log_age\n",
      "country_Germany\n",
      "country_UK\n",
      "country_US\n",
      "new_user_1\n",
      "...Done.\n"
     ]
    }
   ],
   "source": [
    "print(\"Sélection des 10 meilleures features...\")\n",
    "\n",
    "classifier = LogisticRegression()\n",
    "feature_selector = SequentialFeatureSelector(classifier, n_features_to_select=10) \n",
    "feature_selector.fit(X_train_feateng, Y_train_feateng)\n",
    "\n",
    "column_names = []\n",
    "for name, step, features_l in preprocessor_feateng.transformers_: \n",
    "    if name == 'num': \n",
    "        features = features_l \n",
    "    else: \n",
    "        features = step.get_feature_names_out() \n",
    "    column_names.extend(features) \n",
    "\n",
    "print(\"According to the forward selection algorithm, the following features should be kept: \")\n",
    "for i in range(len(feature_selector.support_)):\n",
    "    if feature_selector.support_[i] == True:\n",
    "        print(column_names[i])\n",
    "\n",
    "print(\"...Done.\")"
   ]
  },
  {
   "cell_type": "code",
   "execution_count": null,
   "id": "07da87b9",
   "metadata": {},
   "outputs": [
    {
     "name": "stdout",
     "output_type": "stream",
     "text": [
      "Entraînement avec les 10 features sélectionnées...\n",
      "f1-score on train set :  0.7618983777986326\n",
      "f1-score on test set :  0.7653429602888087\n",
      "...Done.\n"
     ]
    }
   ],
   "source": [
    "# Modèle avec features sélectionnées\n",
    "print(\"Entraînement avec les 10 features sélectionnées...\")\n",
    "\n",
    "X_train_selected = feature_selector.transform(X_train_feateng)\n",
    "X_test_selected = feature_selector.transform(X_test_feateng)\n",
    "\n",
    "classifier_selected = LogisticRegression(random_state=42)\n",
    "classifier_selected.fit(X_train_selected, Y_train_feateng)\n",
    "\n",
    "Y_train_pred_selected = classifier_selected.predict(X_train_selected)\n",
    "Y_test_pred_selected = classifier_selected.predict(X_test_selected)\n",
    "\n",
    "print(\"f1-score on train set : \", f1_score(Y_train_feateng, Y_train_pred_selected))\n",
    "print(\"f1-score on test set : \", f1_score(Y_test_feateng, Y_test_pred_selected))\n",
    "print(\"...Done.\")"
   ]
  },
  {
   "cell_type": "code",
   "execution_count": 31,
   "id": "793ac50c",
   "metadata": {},
   "outputs": [
    {
     "name": "stdout",
     "output_type": "stream",
     "text": [
      "Fitting 3 folds for each of 12 candidates, totalling 36 fits\n",
      "[CV] END ............................Cs=5, class_weight=None; total time=   1.7s\n",
      "[CV] END ............................Cs=5, class_weight=None; total time=   1.8s\n",
      "[CV] END ............................Cs=5, class_weight=None; total time=   1.7s\n",
      "[CV] END ..................Cs=5, class_weight={0: 1, 1: 1.3}; total time=   1.9s\n",
      "[CV] END ..................Cs=5, class_weight={0: 1, 1: 1.3}; total time=   2.0s\n",
      "[CV] END ..................Cs=5, class_weight={0: 1, 1: 1.3}; total time=   1.9s\n",
      "[CV] END ..................Cs=5, class_weight={0: 1, 1: 1.5}; total time=   2.1s\n",
      "[CV] END ..................Cs=5, class_weight={0: 1, 1: 1.5}; total time=   1.8s\n",
      "[CV] END ..................Cs=5, class_weight={0: 1, 1: 1.5}; total time=   1.9s\n",
      "[CV] END ........................Cs=5, class_weight=balanced; total time=   2.6s\n",
      "[CV] END ........................Cs=5, class_weight=balanced; total time=   2.7s\n",
      "[CV] END ........................Cs=5, class_weight=balanced; total time=   2.8s\n",
      "[CV] END ...........................Cs=10, class_weight=None; total time=   2.4s\n",
      "[CV] END ...........................Cs=10, class_weight=None; total time=   2.4s\n",
      "[CV] END ...........................Cs=10, class_weight=None; total time=   2.5s\n",
      "[CV] END .................Cs=10, class_weight={0: 1, 1: 1.3}; total time=   3.2s\n",
      "[CV] END .................Cs=10, class_weight={0: 1, 1: 1.3}; total time=   3.3s\n",
      "[CV] END .................Cs=10, class_weight={0: 1, 1: 1.3}; total time=   4.2s\n",
      "[CV] END .................Cs=10, class_weight={0: 1, 1: 1.5}; total time=   5.0s\n",
      "[CV] END .................Cs=10, class_weight={0: 1, 1: 1.5}; total time=   4.2s\n",
      "[CV] END .................Cs=10, class_weight={0: 1, 1: 1.5}; total time=   4.1s\n",
      "[CV] END .......................Cs=10, class_weight=balanced; total time=   5.8s\n",
      "[CV] END .......................Cs=10, class_weight=balanced; total time=   5.8s\n",
      "[CV] END .......................Cs=10, class_weight=balanced; total time=   5.4s\n",
      "[CV] END ...........................Cs=15, class_weight=None; total time=   4.9s\n",
      "[CV] END ...........................Cs=15, class_weight=None; total time=   5.0s\n",
      "[CV] END ...........................Cs=15, class_weight=None; total time=   4.9s\n",
      "[CV] END .................Cs=15, class_weight={0: 1, 1: 1.3}; total time=   5.4s\n",
      "[CV] END .................Cs=15, class_weight={0: 1, 1: 1.3}; total time=   5.1s\n",
      "[CV] END .................Cs=15, class_weight={0: 1, 1: 1.3}; total time=   3.7s\n",
      "[CV] END .................Cs=15, class_weight={0: 1, 1: 1.5}; total time=   3.7s\n",
      "[CV] END .................Cs=15, class_weight={0: 1, 1: 1.5}; total time=   3.6s\n",
      "[CV] END .................Cs=15, class_weight={0: 1, 1: 1.5}; total time=   3.6s\n",
      "[CV] END .......................Cs=15, class_weight=balanced; total time=   5.5s\n",
      "[CV] END .......................Cs=15, class_weight=balanced; total time=   5.7s\n",
      "[CV] END .......................Cs=15, class_weight=balanced; total time=   5.1s\n",
      "Best Parameters: {'Cs': 15, 'class_weight': None}\n",
      "Best Score: 0.8577845020043792\n",
      "f1-score on train set :  0.7608929532006455\n",
      "f1-score on test set :  0.7641395908543923\n"
     ]
    }
   ],
   "source": [
    "params = {\n",
    "    'Cs': [5, 10, 15], \n",
    "    'class_weight': [\n",
    "        None,\n",
    "        {0: 1, 1: 1.3},\n",
    "        {0: 1, 1: 1.5},\n",
    "        'balanced'\n",
    "    ]\n",
    "}\n",
    "\n",
    "gridsearch_selected = GridSearchCV(logreg, param_grid=params, scoring='precision', cv=3, verbose=2)\n",
    "gridsearch_selected.fit(X_train_selected, Y_train_feateng)\n",
    "\n",
    "print(\"Best Parameters:\", gridsearch_selected.best_params_)\n",
    "print(\"Best Score:\", gridsearch_selected.best_score_)\n",
    "\n",
    "Y_train_pred_final = gridsearch_selected.predict(X_train_selected)\n",
    "Y_test_pred_final = gridsearch_selected.predict(X_test_selected)\n",
    "\n",
    "print(\"f1-score on train set : \", f1_score(Y_train_feateng, Y_train_pred_final))\n",
    "print(\"f1-score on test set : \", f1_score(Y_test_feateng, Y_test_pred_final))"
   ]
  },
  {
   "cell_type": "code",
   "execution_count": null,
   "id": "f97e8c46",
   "metadata": {},
   "outputs": [
    {
     "name": "stdout",
     "output_type": "stream",
     "text": [
      "Application de SMOTE sur les features sélectionnées...\n",
      "Original dataset shape: Counter({0: 247860, 1: 8260})\n",
      "Resampled dataset shape: Counter({0: 247860, 1: 12393})\n",
      "f1-score on train set :  0.7703495789742281\n",
      "f1-score on test set :  0.7655447803764974\n",
      "...Done.\n"
     ]
    }
   ],
   "source": [
    "# SMOTE \n",
    "print(\"Application de SMOTE sur les features sélectionnées...\")\n",
    "\n",
    "smote = SMOTENC(categorical_features=[6,7,8,9], sampling_strategy=0.05, random_state=42)\n",
    "\n",
    "X_train_smote, Y_train_smote = smote.fit_resample(X_train_selected, Y_train_feateng)\n",
    "\n",
    "print('Original dataset shape:', Counter(Y_train_feateng))\n",
    "print('Resampled dataset shape:', Counter(Y_train_smote))\n",
    "\n",
    "classifier_smote = LogisticRegression(random_state=42)\n",
    "classifier_smote.fit(X_train_smote, Y_train_smote)\n",
    "\n",
    "Y_train_pred_smote = classifier_smote.predict(X_train_selected)\n",
    "Y_test_pred_smote = classifier_smote.predict(X_test_selected)\n",
    "\n",
    "print(\"f1-score on train set : \", f1_score(Y_train_feateng, Y_train_pred_smote))\n",
    "print(\"f1-score on test set : \", f1_score(Y_test_feateng, Y_test_pred_smote))\n",
    "print(\"...Done.\")"
   ]
  },
  {
   "cell_type": "markdown",
   "id": "d70d0019",
   "metadata": {},
   "source": [
    "---\n",
    "#  PART 3 : PRÉDICTIONS FINALES\n",
    "*Objectif : Prédictions sur data_test.csv pour soumission leaderboard*"
   ]
  },
  {
   "cell_type": "code",
   "execution_count": null,
   "id": "5fd724c5",
   "metadata": {},
   "outputs": [
    {
     "name": "stdout",
     "output_type": "stream",
     "text": [
      "Prediction set (without labels): (31620, 5)\n",
      "Convert pandas DataFrames to arrays...\n",
      "...Done\n",
      "  country  age  new_user  source  total_pages_visited\n",
      "0      UK   28         0     Seo                   16\n",
      "1      UK   22         1  Direct                    5\n",
      "2   China   32         1     Seo                    1\n",
      "3      US   32         1     Ads                    6\n",
      "4   China   25         0     Seo                    3\n",
      "Encoding categorical features and standardizing numerical features...\n",
      "...Done\n",
      "[[-0.31000438  3.33049128  0.          1.          0.          0.\n",
      "   0.          1.        ]\n",
      " [-1.03592414  0.03829244  0.          1.          0.          1.\n",
      "   1.          0.        ]\n",
      " [ 0.17394213 -1.15887077  0.          0.          0.          1.\n",
      "   0.          1.        ]\n",
      " [ 0.17394213  0.33758325  0.          0.          1.          1.\n",
      "   0.          0.        ]\n",
      " [-0.67296426 -0.56028917  0.          0.          0.          0.\n",
      "   0.          1.        ]]\n"
     ]
    }
   ],
   "source": [
    "# Train multiple models on all data and use them to make predictions\n",
    "\n",
    "X = np.append(X_train, X_test, axis=0)\n",
    "Y = np.append(Y_train, Y_test)\n",
    "\n",
    "logreg = LogisticRegressionCV(Cs=[5], penalty='l2', class_weight={0: 1, 1: 1.5}, random_state=42).fit(X, Y)\n",
    "RFC = RandomForestClassifier(class_weight={0: 1, 1: 1.5}, max_depth=10, min_samples_split=30, n_estimators=40, random_state=42).fit(X, Y)\n",
    "XGBC = XGBClassifier(max_depth=6, min_child_weight=4, n_estimators=50, scale_pos_weight=1, random_state=42, eval_metric='logloss').fit(X, Y)\n",
    "\n",
    "sm = SMOTENC(categorical_features=[2,3,4,5,6,7], sampling_strategy=0.05)\n",
    "X_resampled, Y_resampled = sm.fit_resample(X, Y)\n",
    "xgbc_smote = XGBClassifier(max_depth=6, min_child_weight=8, n_estimators=25).fit(X_resampled, Y_resampled)\n",
    "\n",
    "data_without_labels = pd.read_csv('conversion_data_test.csv')\n",
    "print('Prediction set (without labels):', data_without_labels.shape)\n",
    "\n",
    "# Warning : check consistency of features_list (must be the same as the features \n",
    "# used by your best classifier)\n",
    "features_list = ['country', 'age', 'new_user', 'source', 'total_pages_visited']\n",
    "X_without_labels = data_without_labels.loc[:, features_list]\n",
    "\n",
    "print(\"Convert pandas DataFrames to arrays...\")\n",
    "print(\"...Done\")\n",
    "\n",
    "print(X_without_labels.head())\n",
    "\n",
    "print(\"Encoding categorical features and standardizing numerical features...\")\n",
    "\n",
    "X_without_labels = preprocessor.transform(X_without_labels)\n",
    "\n",
    "print(\"...Done\")\n",
    "print(X_without_labels[0:5,:])\n",
    "\n",
    "data = {\n",
    "    'converted': logreg.predict(X_without_labels)\n",
    "}\n",
    "Y_predictions = pd.DataFrame(columns=['converted'], data=data)\n",
    "Y_predictions.to_csv('conversion_data_test_predictions_TON_NOM-logreg.csv', index=False)\n",
    "\n",
    "data = {\n",
    "    'converted': RFC.predict(X_without_labels)\n",
    "}\n",
    "Y_predictions = pd.DataFrame(columns=['converted'], data=data)\n",
    "Y_predictions.to_csv('conversion_data_test_predictions_TON_NOM-RFC.csv', index=False)\n",
    "\n",
    "data = {\n",
    "    'converted': XGBC.predict(X_without_labels)\n",
    "}\n",
    "Y_predictions = pd.DataFrame(columns=['converted'], data=data)\n",
    "Y_predictions.to_csv('conversion_data_test_predictions_TON_NOM-XGBC.csv', index=False)\n",
    "\n",
    "data = {\n",
    "    'converted': xgbc_smote.predict(X_without_labels)\n",
    "}\n",
    "Y_predictions = pd.DataFrame(columns=['converted'], data=data)\n",
    "Y_predictions.to_csv('conversion_data_test_predictions_TON_NOM-xgbc_smote.csv', index=False)"
   ]
  },
  {
   "cell_type": "markdown",
   "id": "a1b1642d",
   "metadata": {},
   "source": [
    "---\n",
    "#  PART 4 : ANALYSE + RECOMMANDATIONS BUSINESS\n",
    "*Objectif : Comprendre le modèle et proposer des actions concrètes*"
   ]
  },
  {
   "cell_type": "markdown",
   "id": "cc08aad1",
   "metadata": {},
   "source": [
    "# Conclusion"
   ]
  },
  {
   "cell_type": "code",
   "execution_count": null,
   "id": "068748b0",
   "metadata": {},
   "outputs": [],
   "source": [
    "best_model_analysis = LogisticRegressionCV(Cs=[5], penalty='l2', class_weight={0: 1, 1: 1.5}, random_state=42)\n",
    "best_model_analysis.fit(X_train, Y_train)\n",
    "\n",
    "Y_train_pred = best_model_analysis.predict(X_train)\n",
    "Y_test_pred = best_model_analysis.predict(X_test)"
   ]
  },
  {
   "cell_type": "code",
   "execution_count": null,
   "id": "58a84bde",
   "metadata": {},
   "outputs": [
    {
     "name": "stdout",
     "output_type": "stream",
     "text": [
      "Model trained successfully!\n",
      "Train predictions shape: (256120,)\n",
      "Test predictions shape: (28458,)\n",
      "F1-score on test: 0.766951566951567\n"
     ]
    }
   ],
   "source": [
    "print(\"Model trained successfully!\")\n",
    "print(\"Train predictions shape:\", Y_train_pred.shape)\n",
    "print(\"Test predictions shape:\", Y_test_pred.shape)\n",
    "print(\"F1-score on test:\", f1_score(Y_test, Y_test_pred))"
   ]
  },
  {
   "cell_type": "code",
   "execution_count": null,
   "id": "00ec23a4",
   "metadata": {},
   "outputs": [
    {
     "data": {
      "image/png": "[encoded data removed]",
      "text/plain": [
       "<Figure size 640x480 with 2 Axes>"
      ]
     },
     "metadata": {},
     "output_type": "display_data"
    },
    {
     "data": {
      "image/png": "[encoded data removed]",
      "text/plain": [
       "<Figure size 640x480 with 2 Axes>"
      ]
     },
     "metadata": {},
     "output_type": "display_data"
    }
   ],
   "source": [
    "_, ax = plt.subplots()\n",
    "ax.set(title=\"Confusion Matrix on Train set\")  \n",
    "ConfusionMatrixDisplay.from_estimator(best_model_analysis, X_train, Y_train, ax=ax) \n",
    "plt.show()\n",
    "\n",
    "_, ax = plt.subplots() \n",
    "ax.set(title=\"Confusion Matrix on Test set\")  \n",
    "ConfusionMatrixDisplay.from_estimator(best_model_analysis, X_test, Y_test, ax=ax)  \n",
    "plt.show()"
   ]
  },
  {
   "cell_type": "code",
   "execution_count": 43,
   "id": "e21b499a",
   "metadata": {},
   "outputs": [
    {
     "name": "stdout",
     "output_type": "stream",
     "text": [
      "              precision    recall  f1-score   support\n",
      "\n",
      "           0       0.99      0.99      0.99     27540\n",
      "           1       0.80      0.73      0.77       918\n",
      "\n",
      "    accuracy                           0.99     28458\n",
      "   macro avg       0.90      0.86      0.88     28458\n",
      "weighted avg       0.99      0.99      0.99     28458\n",
      "\n"
     ]
    }
   ],
   "source": [
    "print(classification_report(Y_test, Y_test_pred))"
   ]
  },
  {
   "cell_type": "code",
   "execution_count": 46,
   "id": "303ff0b1",
   "metadata": {},
   "outputs": [
    {
     "name": "stderr",
     "output_type": "stream",
     "text": [
      "f:\\projet_certif_19_06_2025_livrable\\Projet_Conversion_rate_challenge\\.venv\\Lib\\site-packages\\sklearn\\metrics\\_plot\\roc_curve.py:189: UserWarning: No artists with labels found to put in legend.  Note that artists whose label start with an underscore are ignored when legend() is called with no argument.\n",
      "  self.ax_.legend(loc=\"lower right\")\n"
     ]
    },
    {
     "data": {
      "image/png": "[encoded data removed]",
      "text/plain": [
       "<Figure size 640x480 with 1 Axes>"
      ]
     },
     "metadata": {},
     "output_type": "display_data"
    }
   ],
   "source": [
    "# ROC curve\n",
    "\n",
    "fpr, tpr, _ = roc_curve(Y_test, Y_test_pred, pos_label=logreg.classes_[1])\n",
    "roc_display = RocCurveDisplay(fpr=fpr, tpr=tpr).plot()"
   ]
  },
  {
   "cell_type": "code",
   "execution_count": 47,
   "id": "7d172639",
   "metadata": {},
   "outputs": [
    {
     "name": "stdout",
     "output_type": "stream",
     "text": [
      "                     coefficients\n",
      "source_Seo              -0.023725\n",
      "source_Direct           -0.199726\n",
      "age                     -0.618473\n",
      "new_user_1              -1.710519\n",
      "total_pages_visited      2.542687\n",
      "country_US               3.111530\n",
      "country_UK               3.443517\n",
      "country_Germany          3.718527\n"
     ]
    }
   ],
   "source": [
    "# Analysing the best model's parameters\n",
    "\n",
    "column_names = []\n",
    "for name, pipeline, features_list in preprocessor.transformers_: \n",
    "    if name == 'num': \n",
    "        features = features_list \n",
    "    else: \n",
    "        features = pipeline.get_feature_names_out()   \n",
    "    column_names.extend(features) \n",
    "        \n",
    "coefs = pd.DataFrame(index=column_names, data=best_model_analysis.coef_.transpose(), columns=[\"coefficients\"])\n",
    "feature_importance = coefs.sort_values(by='coefficients', key=abs)\n",
    "\n",
    "print(feature_importance)"
   ]
  },
  {
   "cell_type": "code",
   "execution_count": 50,
   "id": "a31a9f23",
   "metadata": {},
   "outputs": [
    {
     "data": {
      "application/vnd.plotly.v1+json": {
       "config": {
        "plotlyServerURL": "https://plot.ly"
       },
       "data": [
        {
         "hovertemplate": "variable=coefficients<br>value=%{x}<br>index=%{y}<extra></extra>",
         "legendgroup": "coefficients",
         "marker": {
          "color": "#636efa",
          "pattern": {
           "shape": ""
          }
         },
         "name": "coefficients",
         "orientation": "h",
         "showlegend": true,
         "textposition": "auto",
         "type": "bar",
         "x": {
          "bdata": "kHfGgGkqWr9p7NLypWnHv8aL4FvgweO/m81jeR+R+78iNWI64UwEQEvR8FSBMQlAg6n8afXvC0BasrN9LtQNQA==",
          "dtype": "f8"
         },
         "xaxis": "x",
         "y": [
          "source_Seo",
          "source_Direct",
          "age",
          "new_user_1",
          "total_pages_visited",
          "country_US",
          "country_UK",
          "country_Germany"
         ],
         "yaxis": "y"
        }
       ],
       "layout": {
        "barmode": "relative",
        "legend": {
         "title": {
          "text": "variable"
         },
         "tracegroupgap": 0
        },
        "margin": {
         "l": 120,
         "t": 60
        },
        "showlegend": false,
        "template": {
         "data": {
          "bar": [
           {
            "error_x": {
             "color": "#2a3f5f"
            },
            "error_y": {
             "color": "#2a3f5f"
            },
            "marker": {
             "line": {
              "color": "#E5ECF6",
              "width": 0.5
             },
             "pattern": {
              "fillmode": "overlay",
              "size": 10,
              "solidity": 0.2
             }
            },
            "type": "bar"
           }
          ],
          "barpolar": [
           {
            "marker": {
             "line": {
              "color": "#E5ECF6",
              "width": 0.5
             },
             "pattern": {
              "fillmode": "overlay",
              "size": 10,
              "solidity": 0.2
             }
            },
            "type": "barpolar"
           }
          ],
          "carpet": [
           {
            "aaxis": {
             "endlinecolor": "#2a3f5f",
             "gridcolor": "white",
             "linecolor": "white",
             "minorgridcolor": "white",
             "startlinecolor": "#2a3f5f"
            },
            "baxis": {
             "endlinecolor": "#2a3f5f",
             "gridcolor": "white",
             "linecolor": "white",
             "minorgridcolor": "white",
             "startlinecolor": "#2a3f5f"
            },
            "type": "carpet"
           }
          ],
          "choropleth": [
           {
            "colorbar": {
             "outlinewidth": 0,
             "ticks": ""
            },
            "type": "choropleth"
           }
          ],
          "contour": [
           {
            "colorbar": {
             "outlinewidth": 0,
             "ticks": ""
            },
            "colorscale": [
             [
              0,
              "#0d0887"
             ],
             [
              0.1111111111111111,
              "#46039f"
             ],
             [
              0.2222222222222222,
              "#7201a8"
             ],
             [
              0.3333333333333333,
              "#9c179e"
             ],
             [
              0.4444444444444444,
              "#bd3786"
             ],
             [
              0.5555555555555556,
              "#d8576b"
             ],
             [
              0.6666666666666666,
              "#ed7953"
             ],
             [
              0.7777777777777778,
              "#fb9f3a"
             ],
             [
              0.8888888888888888,
              "#fdca26"
             ],
             [
              1,
              "#f0f921"
             ]
            ],
            "type": "contour"
           }
          ],
          "contourcarpet": [
           {
            "colorbar": {
             "outlinewidth": 0,
             "ticks": ""
            },
            "type": "contourcarpet"
           }
          ],
          "heatmap": [
           {
            "colorbar": {
             "outlinewidth": 0,
             "ticks": ""
            },
            "colorscale": [
             [
              0,
              "#0d0887"
             ],
             [
              0.1111111111111111,
              "#46039f"
             ],
             [
              0.2222222222222222,
              "#7201a8"
             ],
             [
              0.3333333333333333,
              "#9c179e"
             ],
             [
              0.4444444444444444,
              "#bd3786"
             ],
             [
              0.5555555555555556,
              "#d8576b"
             ],
             [
              0.6666666666666666,
              "#ed7953"
             ],
             [
              0.7777777777777778,
              "#fb9f3a"
             ],
             [
              0.8888888888888888,
              "#fdca26"
             ],
             [
              1,
              "#f0f921"
             ]
            ],
            "type": "heatmap"
           }
          ],
          "histogram": [
           {
            "marker": {
             "pattern": {
              "fillmode": "overlay",
              "size": 10,
              "solidity": 0.2
             }
            },
            "type": "histogram"
           }
          ],
          "histogram2d": [
           {
            "colorbar": {
             "outlinewidth": 0,
             "ticks": ""
            },
            "colorscale": [
             [
              0,
              "#0d0887"
             ],
             [
              0.1111111111111111,
              "#46039f"
             ],
             [
              0.2222222222222222,
              "#7201a8"
             ],
             [
              0.3333333333333333,
              "#9c179e"
             ],
             [
              0.4444444444444444,
              "#bd3786"
             ],
             [
              0.5555555555555556,
              "#d8576b"
             ],
             [
              0.6666666666666666,
              "#ed7953"
             ],
             [
              0.7777777777777778,
              "#fb9f3a"
             ],
             [
              0.8888888888888888,
              "#fdca26"
             ],
             [
              1,
              "#f0f921"
             ]
            ],
            "type": "histogram2d"
           }
          ],
          "histogram2dcontour": [
           {
            "colorbar": {
             "outlinewidth": 0,
             "ticks": ""
            },
            "colorscale": [
             [
              0,
              "#0d0887"
             ],
             [
              0.1111111111111111,
              "#46039f"
             ],
             [
              0.2222222222222222,
              "#7201a8"
             ],
             [
              0.3333333333333333,
              "#9c179e"
             ],
             [
              0.4444444444444444,
              "#bd3786"
             ],
             [
              0.5555555555555556,
              "#d8576b"
             ],
             [
              0.6666666666666666,
              "#ed7953"
             ],
             [
              0.7777777777777778,
              "#fb9f3a"
             ],
             [
              0.8888888888888888,
              "#fdca26"
             ],
             [
              1,
              "#f0f921"
             ]
            ],
            "type": "histogram2dcontour"
           }
          ],
          "mesh3d": [
           {
            "colorbar": {
             "outlinewidth": 0,
             "ticks": ""
            },
            "type": "mesh3d"
           }
          ],
          "parcoords": [
           {
            "line": {
             "colorbar": {
              "outlinewidth": 0,
              "ticks": ""
             }
            },
            "type": "parcoords"
           }
          ],
          "pie": [
           {
            "automargin": true,
            "type": "pie"
           }
          ],
          "scatter": [
           {
            "fillpattern": {
             "fillmode": "overlay",
             "size": 10,
             "solidity": 0.2
            },
            "type": "scatter"
           }
          ],
          "scatter3d": [
           {
            "line": {
             "colorbar": {
              "outlinewidth": 0,
              "ticks": ""
             }
            },
            "marker": {
             "colorbar": {
              "outlinewidth": 0,
              "ticks": ""
             }
            },
            "type": "scatter3d"
           }
          ],
          "scattercarpet": [
           {
            "marker": {
             "colorbar": {
              "outlinewidth": 0,
              "ticks": ""
             }
            },
            "type": "scattercarpet"
           }
          ],
          "scattergeo": [
           {
            "marker": {
             "colorbar": {
              "outlinewidth": 0,
              "ticks": ""
             }
            },
            "type": "scattergeo"
           }
          ],
          "scattergl": [
           {
            "marker": {
             "colorbar": {
              "outlinewidth": 0,
              "ticks": ""
             }
            },
            "type": "scattergl"
           }
          ],
          "scattermap": [
           {
            "marker": {
             "colorbar": {
              "outlinewidth": 0,
              "ticks": ""
             }
            },
            "type": "scattermap"
           }
          ],
          "scattermapbox": [
           {
            "marker": {
             "colorbar": {
              "outlinewidth": 0,
              "ticks": ""
             }
            },
            "type": "scattermapbox"
           }
          ],
          "scatterpolar": [
           {
            "marker": {
             "colorbar": {
              "outlinewidth": 0,
              "ticks": ""
             }
            },
            "type": "scatterpolar"
           }
          ],
          "scatterpolargl": [
           {
            "marker": {
             "colorbar": {
              "outlinewidth": 0,
              "ticks": ""
             }
            },
            "type": "scatterpolargl"
           }
          ],
          "scatterternary": [
           {
            "marker": {
             "colorbar": {
              "outlinewidth": 0,
              "ticks": ""
             }
            },
            "type": "scatterternary"
           }
          ],
          "surface": [
           {
            "colorbar": {
             "outlinewidth": 0,
             "ticks": ""
            },
            "colorscale": [
             [
              0,
              "#0d0887"
             ],
             [
              0.1111111111111111,
              "#46039f"
             ],
             [
              0.2222222222222222,
              "#7201a8"
             ],
             [
              0.3333333333333333,
              "#9c179e"
             ],
             [
              0.4444444444444444,
              "#bd3786"
             ],
             [
              0.5555555555555556,
              "#d8576b"
             ],
             [
              0.6666666666666666,
              "#ed7953"
             ],
             [
              0.7777777777777778,
              "#fb9f3a"
             ],
             [
              0.8888888888888888,
              "#fdca26"
             ],
             [
              1,
              "#f0f921"
             ]
            ],
            "type": "surface"
           }
          ],
          "table": [
           {
            "cells": {
             "fill": {
              "color": "#EBF0F8"
             },
             "line": {
              "color": "white"
             }
            },
            "header": {
             "fill": {
              "color": "#C8D4E3"
             },
             "line": {
              "color": "white"
             }
            },
            "type": "table"
           }
          ]
         },
         "layout": {
          "annotationdefaults": {
           "arrowcolor": "#2a3f5f",
           "arrowhead": 0,
           "arrowwidth": 1
          },
          "autotypenumbers": "strict",
          "coloraxis": {
           "colorbar": {
            "outlinewidth": 0,
            "ticks": ""
           }
          },
          "colorscale": {
           "diverging": [
            [
             0,
             "#8e0152"
            ],
            [
             0.1,
             "#c51b7d"
            ],
            [
             0.2,
             "#de77ae"
            ],
            [
             0.3,
             "#f1b6da"
            ],
            [
             0.4,
             "#fde0ef"
            ],
            [
             0.5,
             "#f7f7f7"
            ],
            [
             0.6,
             "#e6f5d0"
            ],
            [
             0.7,
             "#b8e186"
            ],
            [
             0.8,
             "#7fbc41"
            ],
            [
             0.9,
             "#4d9221"
            ],
            [
             1,
             "#276419"
            ]
           ],
           "sequential": [
            [
             0,
             "#0d0887"
            ],
            [
             0.1111111111111111,
             "#46039f"
            ],
            [
             0.2222222222222222,
             "#7201a8"
            ],
            [
             0.3333333333333333,
             "#9c179e"
            ],
            [
             0.4444444444444444,
             "#bd3786"
            ],
            [
             0.5555555555555556,
             "#d8576b"
            ],
            [
             0.6666666666666666,
             "#ed7953"
            ],
            [
             0.7777777777777778,
             "#fb9f3a"
            ],
            [
             0.8888888888888888,
             "#fdca26"
            ],
            [
             1,
             "#f0f921"
            ]
           ],
           "sequentialminus": [
            [
             0,
             "#0d0887"
            ],
            [
             0.1111111111111111,
             "#46039f"
            ],
            [
             0.2222222222222222,
             "#7201a8"
            ],
            [
             0.3333333333333333,
             "#9c179e"
            ],
            [
             0.4444444444444444,
             "#bd3786"
            ],
            [
             0.5555555555555556,
             "#d8576b"
            ],
            [
             0.6666666666666666,
             "#ed7953"
            ],
            [
             0.7777777777777778,
             "#fb9f3a"
            ],
            [
             0.8888888888888888,
             "#fdca26"
            ],
            [
             1,
             "#f0f921"
            ]
           ]
          },
          "colorway": [
           "#636efa",
           "#EF553B",
           "#00cc96",
           "#ab63fa",
           "#FFA15A",
           "#19d3f3",
           "#FF6692",
           "#B6E880",
           "#FF97FF",
           "#FECB52"
          ],
          "font": {
           "color": "#2a3f5f"
          },
          "geo": {
           "bgcolor": "white",
           "lakecolor": "white",
           "landcolor": "#E5ECF6",
           "showlakes": true,
           "showland": true,
           "subunitcolor": "white"
          },
          "hoverlabel": {
           "align": "left"
          },
          "hovermode": "closest",
          "mapbox": {
           "style": "light"
          },
          "paper_bgcolor": "white",
          "plot_bgcolor": "#E5ECF6",
          "polar": {
           "angularaxis": {
            "gridcolor": "white",
            "linecolor": "white",
            "ticks": ""
           },
           "bgcolor": "#E5ECF6",
           "radialaxis": {
            "gridcolor": "white",
            "linecolor": "white",
            "ticks": ""
           }
          },
          "scene": {
           "xaxis": {
            "backgroundcolor": "#E5ECF6",
            "gridcolor": "white",
            "gridwidth": 2,
            "linecolor": "white",
            "showbackground": true,
            "ticks": "",
            "zerolinecolor": "white"
           },
           "yaxis": {
            "backgroundcolor": "#E5ECF6",
            "gridcolor": "white",
            "gridwidth": 2,
            "linecolor": "white",
            "showbackground": true,
            "ticks": "",
            "zerolinecolor": "white"
           },
           "zaxis": {
            "backgroundcolor": "#E5ECF6",
            "gridcolor": "white",
            "gridwidth": 2,
            "linecolor": "white",
            "showbackground": true,
            "ticks": "",
            "zerolinecolor": "white"
           }
          },
          "shapedefaults": {
           "line": {
            "color": "#2a3f5f"
           }
          },
          "ternary": {
           "aaxis": {
            "gridcolor": "white",
            "linecolor": "white",
            "ticks": ""
           },
           "baxis": {
            "gridcolor": "white",
            "linecolor": "white",
            "ticks": ""
           },
           "bgcolor": "#E5ECF6",
           "caxis": {
            "gridcolor": "white",
            "linecolor": "white",
            "ticks": ""
           }
          },
          "title": {
           "x": 0.05
          },
          "xaxis": {
           "automargin": true,
           "gridcolor": "white",
           "linecolor": "white",
           "ticks": "",
           "title": {
            "standoff": 15
           },
           "zerolinecolor": "white",
           "zerolinewidth": 2
          },
          "yaxis": {
           "automargin": true,
           "gridcolor": "white",
           "linecolor": "white",
           "ticks": "",
           "title": {
            "standoff": 15
           },
           "zerolinecolor": "white",
           "zerolinewidth": 2
          }
         }
        },
        "title": {
         "text": "Features importance of the best model (Logistic Regression)",
         "x": 0.5
        },
        "xaxis": {
         "anchor": "y",
         "domain": [
          0,
          1
         ],
         "title": {
          "text": "value"
         }
        },
        "yaxis": {
         "anchor": "x",
         "domain": [
          0,
          1
         ],
         "title": {
          "text": "index"
         }
        }
       }
      }
     },
     "metadata": {},
     "output_type": "display_data"
    }
   ],
   "source": [
    "import plotly.express as px\n",
    "\n",
    "fig = px.bar(feature_importance, orientation='h')\n",
    "fig.update_layout(showlegend=False, \n",
    "                  margin={'l': 120}, title_x=0.5,\n",
    "                  title_text=\"Features importance of the best model (Logistic Regression)\")\n",
    "fig.show()"
   ]
  },
  {
   "cell_type": "markdown",
   "id": "4a105d6b",
   "metadata": {},
   "source": [
    "## Recommandations Business\n",
    "\n",
    "### **Analyzing the coefficients and interpreting the result**\n",
    "\n",
    "L'analyse des coefficients révèle que **total_pages_visited (+2.54)** est le facteur le plus important pour la conversion, suivi des pays Germany (+3.72), UK (+3.44) et US (+3.11), tandis que les nouveaux utilisateurs (-1.71) convertissent moins bien.\n",
    "\n",
    "### **Perspectives d'amélioration :**\n",
    "* Cibler prioritairement l'Allemagne, UK et USA - marchés les plus convertisseurs\n",
    "* Améliorer l'onboarding des nouveaux utilisateurs et inciter à visiter plus de pages\n",
    "* Tester des thresholds différents de 0.5 pour optimiser les prédictions"
   ]
  },
  {
   "cell_type": "markdown",
   "id": "b305d74e",
   "metadata": {},
   "source": []
  }
 ],
 "metadata": {
  "kernelspec": {
   "display_name": ".venv",
   "language": "python",
   "name": "python3"
  },
  "language_info": {
   "codemirror_mode": {
    "name": "ipython",
    "version": 3
   },
   "file_extension": ".py",
   "mimetype": "text/x-python",
   "name": "python",
   "nbconvert_exporter": "python",
   "pygments_lexer": "ipython3",
   "version": "3.11.9"
  }
 },
 "nbformat": 4,
 "nbformat_minor": 5
}
